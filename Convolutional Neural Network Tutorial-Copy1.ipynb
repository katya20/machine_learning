{
 "cells": [
  {
   "cell_type": "markdown",
   "metadata": {},
   "source": [
    "## The Code\n",
    "First, we'll want to import the keras modules we'll be using for our neural network and the numpy and matplotlib modules that we'll be using for displaying our test images."
   ]
  },
  {
   "cell_type": "code",
   "execution_count": 1,
   "metadata": {},
   "outputs": [
    {
     "name": "stderr",
     "output_type": "stream",
     "text": [
      "Using TensorFlow backend.\n",
      "/Library/Frameworks/Python.framework/Versions/3.6/lib/python3.6/importlib/_bootstrap.py:205: RuntimeWarning: compiletime version 3.5 of module 'tensorflow.python.framework.fast_tensor_util' does not match runtime version 3.6\n",
      "  return f(*args, **kwds)\n"
     ]
    }
   ],
   "source": [
    "from keras.models import Sequential\n",
    "from keras.layers import Conv2D\n",
    "import numpy\n",
    "from matplotlib.pyplot import imshow\n",
    "# tell matplotlib to display images within this notebook\n",
    "%matplotlib inline"
   ]
  },
  {
   "cell_type": "code",
   "execution_count": 2,
   "metadata": {
    "collapsed": true
   },
   "outputs": [],
   "source": [
    "def predict_images(images):\n",
    "    resized_images = []\n",
    "    for image in images:\n",
    "        resized_images.append(numpy.resize(image, (image_size, image_size, 1)))\n",
    "    return model2.predict(numpy.array(resized_images))"
   ]
  },
  {
   "cell_type": "code",
   "execution_count": 4,
   "metadata": {
    "collapsed": true
   },
   "outputs": [],
   "source": [
    "kernel_size = 3\n",
    "image_size = 9"
   ]
  },
  {
   "cell_type": "code",
   "execution_count": 5,
   "metadata": {},
   "outputs": [],
   "source": [
    "model2 = Sequential()\n",
    "model2.add(Conv2D(filters=2, kernel_size=kernel_size, input_shape=(image_size, image_size, 1), strides=(3,3)))\n",
    "model2.add(Conv2D(filters=1, kernel_size=kernel_size, input_shape=(image_size, image_size, 1)))"
   ]
  },
  {
   "cell_type": "code",
   "execution_count": 6,
   "metadata": {},
   "outputs": [
    {
     "data": {
      "text/plain": [
       "[array([[[[ 0.33333799, -0.15679899]],\n",
       " \n",
       "         [[-0.19552091,  0.21301004]],\n",
       " \n",
       "         [[-0.19993117,  0.26440594]]],\n",
       " \n",
       " \n",
       "        [[[ 0.40817031,  0.17150161]],\n",
       " \n",
       "         [[ 0.41088077,  0.40967837]],\n",
       " \n",
       "         [[ 0.24830315,  0.33540383]]],\n",
       " \n",
       " \n",
       "        [[[ 0.42426637,  0.19282487]],\n",
       " \n",
       "         [[-0.36318928, -0.26911741]],\n",
       " \n",
       "         [[-0.09748802, -0.12436524]]]], dtype=float32),\n",
       " array([ 0.,  0.], dtype=float32),\n",
       " array([[[[ 0.06486627],\n",
       "          [ 0.35533336]],\n",
       " \n",
       "         [[ 0.02626771],\n",
       "          [ 0.32293239]],\n",
       " \n",
       "         [[ 0.26896176],\n",
       "          [ 0.20922461]]],\n",
       " \n",
       " \n",
       "        [[[ 0.31577083],\n",
       "          [-0.28123355]],\n",
       " \n",
       "         [[-0.31837538],\n",
       "          [ 0.07828769]],\n",
       " \n",
       "         [[ 0.02298847],\n",
       "          [ 0.36386868]]],\n",
       " \n",
       " \n",
       "        [[[-0.06539595],\n",
       "          [-0.01040971]],\n",
       " \n",
       "         [[-0.37430605],\n",
       "          [ 0.22594073]],\n",
       " \n",
       "         [[ 0.34785321],\n",
       "          [-0.24545044]]]], dtype=float32),\n",
       " array([ 0.], dtype=float32)]"
      ]
     },
     "execution_count": 6,
     "metadata": {},
     "output_type": "execute_result"
    }
   ],
   "source": [
    "weights = model2.get_weights()\n",
    "weights"
   ]
  },
  {
   "cell_type": "code",
   "execution_count": 7,
   "metadata": {
    "scrolled": true
   },
   "outputs": [
    {
     "data": {
      "text/plain": [
       "[array([[[[ 1., -1.]],\n",
       " \n",
       "         [[-1., -1.]],\n",
       " \n",
       "         [[ 1.,  1.]]],\n",
       " \n",
       " \n",
       "        [[[ 1., -1.]],\n",
       " \n",
       "         [[ 1., -1.]],\n",
       " \n",
       "         [[-1., -1.]]],\n",
       " \n",
       " \n",
       "        [[[ 1.,  1.]],\n",
       " \n",
       "         [[-1., -1.]],\n",
       " \n",
       "         [[ 1.,  1.]]]], dtype=float32),\n",
       " array([ 0.,  0.], dtype=float32),\n",
       " array([[[[ 0.06486627],\n",
       "          [ 0.35533336]],\n",
       " \n",
       "         [[ 0.02626771],\n",
       "          [ 0.32293239]],\n",
       " \n",
       "         [[ 0.26896176],\n",
       "          [ 0.20922461]]],\n",
       " \n",
       " \n",
       "        [[[ 0.31577083],\n",
       "          [-0.28123355]],\n",
       " \n",
       "         [[-0.31837538],\n",
       "          [ 0.07828769]],\n",
       " \n",
       "         [[ 0.02298847],\n",
       "          [ 0.36386868]]],\n",
       " \n",
       " \n",
       "        [[[-0.06539595],\n",
       "          [-0.01040971]],\n",
       " \n",
       "         [[-0.37430605],\n",
       "          [ 0.22594073]],\n",
       " \n",
       "         [[ 0.34785321],\n",
       "          [-0.24545044]]]], dtype=float32),\n",
       " array([ 0.], dtype=float32)]"
      ]
     },
     "execution_count": 7,
     "metadata": {},
     "output_type": "execute_result"
    }
   ],
   "source": [
    "layer_num = 0\n",
    "filter_num = 0\n",
    "\n",
    "weights[layer_num][0][0][0][filter_num] = 1\n",
    "weights[layer_num][0][1][0][filter_num] = -1\n",
    "weights[layer_num][0][2][0][filter_num] = 1\n",
    "weights[layer_num][1][0][0][filter_num] = 1\n",
    "weights[layer_num][1][1][0][filter_num] = 1\n",
    "weights[layer_num][1][2][0][filter_num] = -1\n",
    "weights[layer_num][2][0][0][filter_num] = 1\n",
    "weights[layer_num][2][1][0][filter_num] = -1\n",
    "weights[layer_num][2][2][0][filter_num] = 1\n",
    "\n",
    "filter_num = 1\n",
    "\n",
    "weights[layer_num][0][0][0][filter_num] = -1\n",
    "weights[layer_num][0][1][0][filter_num] = -1\n",
    "weights[layer_num][0][2][0][filter_num] = 1\n",
    "weights[layer_num][1][0][0][filter_num] = -1\n",
    "weights[layer_num][1][1][0][filter_num] = -1\n",
    "weights[layer_num][1][2][0][filter_num] = -1\n",
    "weights[layer_num][2][0][0][filter_num] = 1\n",
    "weights[layer_num][2][1][0][filter_num] = -1\n",
    "weights[layer_num][2][2][0][filter_num] = 1\n",
    "\n",
    "weights"
   ]
  },
  {
   "cell_type": "code",
   "execution_count": 8,
   "metadata": {
    "collapsed": true
   },
   "outputs": [],
   "source": [
    "layer_num = 2\n",
    "filter_num = 0\n",
    "\n",
    "weights[layer_num][0][0][0][filter_num] = -0.25\n",
    "weights[layer_num][0][1][0][filter_num] = -0.25\n",
    "weights[layer_num][0][2][0][filter_num] = 1\n",
    "weights[layer_num][1][0][0][filter_num] = -0.25\n",
    "weights[layer_num][1][1][0][filter_num] = -0.25\n",
    "weights[layer_num][1][2][0][filter_num] = -0.25\n",
    "weights[layer_num][2][0][0][filter_num] = 1\n",
    "weights[layer_num][2][1][0][filter_num] = -0.25\n",
    "weights[layer_num][2][2][0][filter_num] = 1\n",
    "\n",
    "weights[layer_num][0][0][1][filter_num] = -0.25\n",
    "weights[layer_num][0][1][1][filter_num] = -0.25\n",
    "weights[layer_num][0][2][1][filter_num] = 1\n",
    "weights[layer_num][1][0][1][filter_num] = -0.25\n",
    "weights[layer_num][1][1][1][filter_num] = -0.25\n",
    "weights[layer_num][1][2][1][filter_num] = -0.25\n",
    "weights[layer_num][2][0][1][filter_num] = 1\n",
    "weights[layer_num][2][1][1][filter_num] = -0.25\n",
    "weights[layer_num][2][2][1][filter_num] = 1\n",
    "\n",
    "weights  \n",
    "model2.set_weights(weights)"
   ]
  },
  {
   "cell_type": "code",
   "execution_count": 9,
   "metadata": {},
   "outputs": [
    {
     "data": {
      "text/plain": [
       "<matplotlib.image.AxesImage at 0x113fde4e0>"
      ]
     },
     "execution_count": 9,
     "metadata": {},
     "output_type": "execute_result"
    },
    {
     "data": {
      "image/png": "[encoded data removed]",
      "text/plain": [
       "<matplotlib.figure.Figure at 0x113f3f668>"
      ]
     },
     "metadata": {},
     "output_type": "display_data"
    }
   ],
   "source": [
    "image_1 = numpy.array([\n",
    "    [128, 0, 255, 128, 0, 255, 128, 0, 255],\n",
    "    [128, 128, 0, 128, 128, 0, 128, 128, 0],\n",
    "    [255, 0, 255, 255, 0, 255, 255, 0, 255],\n",
    "    [128, 0, 255, 128, 0, 255, 128, 0, 255],\n",
    "    [128, 128, 0, 128, 128, 0, 128, 128, 0],\n",
    "    [255, 0, 255, 255, 0, 255, 255, 0, 255],\n",
    "    [128, 0, 255, 128, 0, 255, 128, 0, 255],\n",
    "    [128, 128, 0, 128, 128, 0, 128, 128, 0],\n",
    "    [255, 0, 255, 255, 0, 255, 255, 0, 255],\n",
    "], dtype=numpy.uint8)\n",
    "imshow(image_1, cmap='gray', vmin=0, vmax=255)"
   ]
  },
  {
   "cell_type": "code",
   "execution_count": 10,
   "metadata": {},
   "outputs": [
    {
     "data": {
      "text/plain": [
       "<matplotlib.image.AxesImage at 0x114a8a5f8>"
      ]
     },
     "execution_count": 10,
     "metadata": {},
     "output_type": "execute_result"
    },
    {
     "data": {
      "image/png": "[encoded data removed]",
      "text/plain": [
       "<matplotlib.figure.Figure at 0x11499dcc0>"
      ]
     },
     "metadata": {},
     "output_type": "display_data"
    }
   ],
   "source": [
    "image_2 = numpy.array([\n",
    "    [0, 0, 255, 0, 0, 255, 0, 0, 255],\n",
    "    [0, 0, 0, 0, 0, 0, 0, 0, 0],\n",
    "    [255, 0, 255, 255, 0, 255, 255, 0, 255],\n",
    "    [0, 0, 255, 0, 0, 255, 0, 0, 255],\n",
    "    [0, 0, 0, 0, 0, 0, 0, 0, 0],\n",
    "    [255, 0, 255, 255, 0, 255, 255, 0, 255],\n",
    "    [0, 0, 255, 0, 0, 255, 0, 0, 255],    \n",
    "    [0, 0, 0, 0, 0, 0, 0, 0, 0],\n",
    "    [255, 0, 255, 255, 0, 255, 255, 0, 255],\n",
    "    [0, 0, 255, 0, 0, 255, 0, 0, 255], \n",
    "    [0, 0, 0, 0, 0, 0, 0, 0, 0],\n",
    "    [255, 0, 255, 255, 0, 255, 255, 0, 255],\n",
    "], dtype=numpy.uint8)\n",
    "imshow(image_2, cmap='gray', vmin=0, vmax=255)"
   ]
  },
  {
   "cell_type": "code",
   "execution_count": 11,
   "metadata": {},
   "outputs": [
    {
     "data": {
      "text/plain": [
       "<matplotlib.image.AxesImage at 0x11490f518>"
      ]
     },
     "execution_count": 11,
     "metadata": {},
     "output_type": "execute_result"
    },
    {
     "data": {
      "image/png": "[encoded data removed]",
      "text/plain": [
       "<matplotlib.figure.Figure at 0x113f27f28>"
      ]
     },
     "metadata": {},
     "output_type": "display_data"
    }
   ],
   "source": [
    "image_3 = numpy.array([\n",
    "    [255, 0, 255, 255, 0, 255, 255, 0, 255],\n",
    "    [255, 255, 0, 255, 255, 0, 255, 255, 0],\n",
    "    [255, 0, 255, 255, 0, 255, 255, 0, 255],\n",
    "    [255, 0, 255, 255, 0, 255, 255, 0, 255],\n",
    "    [255, 255, 0, 255, 255, 0, 255, 255, 0],\n",
    "    [255, 0, 255, 255, 0, 255, 255, 0, 255],\n",
    "    [255, 0, 255, 255, 0, 255, 255, 0, 255],\n",
    "    [255, 255, 0, 255, 255, 0, 255, 255, 0],\n",
    "    [255, 0, 255, 255, 0, 255, 255, 0, 255],\n",
    "], dtype=numpy.uint8)\n",
    "imshow(image_3, cmap='gray', vmin=0, vmax=255)"
   ]
  },
  {
   "cell_type": "code",
   "execution_count": 12,
   "metadata": {},
   "outputs": [
    {
     "data": {
      "text/plain": [
       "array([[[[ 2295.]]],\n",
       "\n",
       "\n",
       "       [[[ 2295.]]],\n",
       "\n",
       "\n",
       "       [[[ 2295.]]]], dtype=float32)"
      ]
     },
     "execution_count": 12,
     "metadata": {},
     "output_type": "execute_result"
    }
   ],
   "source": [
    "predict_images([image_1, image_2, image_3])"
   ]
  },
  {
   "cell_type": "code",
   "execution_count": null,
   "metadata": {
    "collapsed": true
   },
   "outputs": [],
   "source": []
  },
  {
   "cell_type": "code",
   "execution_count": null,
   "metadata": {
    "collapsed": true
   },
   "outputs": [],
   "source": []
  }
 ],
 "metadata": {
  "kernelspec": {
   "display_name": "Python 3",
   "language": "python",
   "name": "python3"
  },
  "language_info": {
   "codemirror_mode": {
    "name": "ipython",
    "version": 3
   },
   "file_extension": ".py",
   "mimetype": "text/x-python",
   "name": "python",
   "nbconvert_exporter": "python",
   "pygments_lexer": "ipython3",
   "version": "3.6.2"
  }
 },
 "nbformat": 4,
 "nbformat_minor": 2
}
