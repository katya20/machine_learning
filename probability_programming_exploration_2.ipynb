{
 "cells": [
  {
   "cell_type": "markdown",
   "metadata": {},
   "source": [
    "edited code from: http://m-clark.github.io/docs/IntroBayes.html#a_hands-on_example (original code in R)"
   ]
  },
  {
   "cell_type": "code",
   "execution_count": 29,
   "metadata": {
    "collapsed": true
   },
   "outputs": [],
   "source": [
    "import numpy as np\n",
    "from matplotlib import pyplot as plt"
   ]
  },
  {
   "cell_type": "code",
   "execution_count": 30,
   "metadata": {},
   "outputs": [
    {
     "name": "stdout",
     "output_type": "stream",
     "text": [
      "sample size =  10\n",
      "number of texting =  6\n",
      "number of NOT texting =  4\n"
     ]
    }
   ],
   "source": [
    "drive = ['texting','texting','texting','not','not',\n",
    "          'texting','texting','not','not','texting']\n",
    "\n",
    "# convert to numeric, arbitrarily picking texting=1, not=0\n",
    "driveNum = [1 if i=='texting' else 0 for i in drive]\n",
    "N = len(drive)   # sample size\n",
    "print(\"sample size = \", N)\n",
    "\n",
    "nTexting = driveNum.count(1)      # number of drivers texting\n",
    "print(\"number of texting = \", nTexting)\n",
    "\n",
    "nNot = driveNum.count(0) # number of those not\n",
    "print(\"number of NOT texting = \", nNot)"
   ]
  },
  {
   "cell_type": "markdown",
   "metadata": {},
   "source": [
    "### Binomial Distribution"
   ]
  },
  {
   "cell_type": "code",
   "execution_count": 31,
   "metadata": {},
   "outputs": [
    {
     "name": "stdout",
     "output_type": "stream",
     "text": [
      "5.008  = mean with p=0.5\n"
     ]
    },
    {
     "data": {
      "image/png": "[encoded data removed]",
      "text/plain": [
       "<Figure size 432x288 with 1 Axes>"
      ]
     },
     "metadata": {},
     "output_type": "display_data"
    },
    {
     "name": "stdout",
     "output_type": "stream",
     "text": [
      "8.502  = mean with p=0.85\n"
     ]
    },
    {
     "data": {
      "image/png": "[encoded data removed]",
      "text/plain": [
       "<Figure size 432x288 with 1 Axes>"
      ]
     },
     "metadata": {},
     "output_type": "display_data"
    }
   ],
   "source": [
    "# Parameters:\n",
    "# np.random.binomial(number of trials, probability of event, number of observations)\n",
    "\n",
    "x1 = np.random.binomial(N, 0.5, 1000)\n",
    "x2 = np.random.binomial(N, 0.85, 1000)\n",
    "\n",
    "np.mean(x1)\n",
    "print(np.mean(x1),\" = mean with p=0.5\")\n",
    "plt.hist(x1) \n",
    "plt.show()\n",
    "\n",
    "np.mean(x2)\n",
    "print(np.mean(x2),\" = mean with p=0.85\")\n",
    "plt.hist(x2)\n",
    "plt.show()"
   ]
  },
  {
   "cell_type": "markdown",
   "metadata": {},
   "source": [
    "#### possible probability (theta) values"
   ]
  },
  {
   "cell_type": "code",
   "execution_count": 32,
   "metadata": {},
   "outputs": [
    {
     "data": {
      "text/plain": [
       "array([0.09090909, 0.18181818, 0.27272727, 0.36363636, 0.45454545,\n",
       "       0.54545455, 0.63636364, 0.72727273, 0.81818182, 0.90909091])"
      ]
     },
     "execution_count": 32,
     "metadata": {},
     "output_type": "execute_result"
    }
   ],
   "source": [
    "theta = np.linspace(1/(N+1), N/(N+1), num=10)\n",
    "theta"
   ]
  },
  {
   "cell_type": "markdown",
   "metadata": {},
   "source": [
    "## Prior Distribution"
   ]
  },
  {
   "cell_type": "code",
   "execution_count": 33,
   "metadata": {},
   "outputs": [
    {
     "data": {
      "text/plain": [
       "array([0.125 , 0.1125, 0.1   , 0.0875, 0.075 , 0.075 , 0.0875, 0.1   ,\n",
       "       0.1125, 0.125 ])"
      ]
     },
     "execution_count": 33,
     "metadata": {},
     "output_type": "execute_result"
    }
   ],
   "source": [
    "# uniform\n",
    "# pTheta = dunif(theta)\n",
    "\n",
    "# triangular as in Kruschke\n",
    "pTheta = np.maximum(theta, 1-theta)\n",
    "\n",
    "# beta prior with mean = .5\n",
    "# pTheta = dbeta(theta, 10, 10)\n",
    "\n",
    "pTheta = pTheta/sum(pTheta) # Normalize so sum to 1\n",
    "pTheta"
   ]
  },
  {
   "cell_type": "code",
   "execution_count": 44,
   "metadata": {},
   "outputs": [
    {
     "data": {
      "image/png": "[encoded data removed]",
      "text/plain": [
       "<Figure size 432x288 with 1 Axes>"
      ]
     },
     "metadata": {},
     "output_type": "display_data"
    }
   ],
   "source": [
    "plt.hist(pTheta)\n",
    "plt.show()"
   ]
  },
  {
   "cell_type": "markdown",
   "metadata": {
    "collapsed": true
   },
   "source": [
    "## Likelihood"
   ]
  },
  {
   "cell_type": "code",
   "execution_count": 34,
   "metadata": {},
   "outputs": [],
   "source": [
    "from math import factorial\n",
    "\n",
    "def calculate_combinations(n, r):\n",
    "    return factorial(n) // factorial(r) // factorial(n-r)"
   ]
  },
  {
   "cell_type": "code",
   "execution_count": 49,
   "metadata": {},
   "outputs": [
    {
     "name": "stdout",
     "output_type": "stream",
     "text": [
      "combinations:  210\n",
      "probability of data given theta:  [8.09640908e-05 3.39971456e-03 2.41757480e-02 7.96241027e-02\n",
      " 1.63952284e-01 2.36091289e-01 2.43848814e-01 1.71916430e-01\n",
      " 6.88442198e-02 8.09640908e-03]\n"
     ]
    }
   ],
   "source": [
    "pDataGivenTheta = calculate_combinations(N, nTexting) * theta**nTexting * (1-theta)**nNot\n",
    "print(\"combinations: \",nCk(N, nTexting))\n",
    "print(\"probability of data given theta: \", pDataGivenTheta)"
   ]
  },
  {
   "cell_type": "code",
   "execution_count": 50,
   "metadata": {},
   "outputs": [
    {
     "data": {
      "image/png": "[encoded data removed]",
      "text/plain": [
       "<Figure size 432x288 with 1 Axes>"
      ]
     },
     "metadata": {},
     "output_type": "display_data"
    }
   ],
   "source": [
    "plt.hist(pDataGivenTheta)\n",
    "plt.show()"
   ]
  },
  {
   "cell_type": "markdown",
   "metadata": {},
   "source": [
    "## Posterior"
   ]
  },
  {
   "cell_type": "code",
   "execution_count": 53,
   "metadata": {},
   "outputs": [
    {
     "data": {
      "text/plain": [
       "array([1.16239561e-04, 4.39285111e-03, 2.77671576e-02, 8.00210250e-02,\n",
       "       1.41231067e-01, 2.03372736e-01, 2.45064389e-01, 1.97455343e-01,\n",
       "       8.89552349e-02, 1.16239561e-02])"
      ]
     },
     "execution_count": 53,
     "metadata": {},
     "output_type": "execute_result"
    }
   ],
   "source": [
    "# first we calculate the denominator from Bayes theorem; this is the marginal probability of y\n",
    "pData = sum(pDataGivenTheta*pTheta)\n",
    "\n",
    "pThetaGivenData = pDataGivenTheta*pTheta  / pData  # Bayes theorem\n",
    "\n",
    "pThetaGivenData"
   ]
  },
  {
   "cell_type": "markdown",
   "metadata": {},
   "source": [
    "## Visualizing the Data"
   ]
  },
  {
   "cell_type": "code",
   "execution_count": 54,
   "metadata": {},
   "outputs": [
    {
     "name": "stdout",
     "output_type": "stream",
     "text": [
      "Populating the interactive namespace from numpy and matplotlib\n"
     ]
    }
   ],
   "source": [
    "import pandas as pd\n",
    "%pylab inline"
   ]
  },
  {
   "cell_type": "markdown",
   "metadata": {},
   "source": [
    "Round to the nea"
   ]
  },
  {
   "cell_type": "code",
   "execution_count": 70,
   "metadata": {},
   "outputs": [],
   "source": [
    "theta1 = np.around(theta, decimals = 2)\n",
    "pTheta1 = np.around(pTheta, decimals = 2)\n",
    "pDataGivenTheta1 = np.around(pDataGivenTheta, decimals = 2)\n",
    "pThetaGivenData1 = np.around(pThetaGivenData, decimals = 2)"
   ]
  },
  {
   "cell_type": "code",
   "execution_count": 76,
   "metadata": {
    "scrolled": true
   },
   "outputs": [
    {
     "data": {
      "text/html": [
       "<div>\n",
       "<style>\n",
       "    .dataframe thead tr:only-child th {\n",
       "        text-align: right;\n",
       "    }\n",
       "\n",
       "    .dataframe thead th {\n",
       "        text-align: left;\n",
       "    }\n",
       "\n",
       "    .dataframe tbody tr th {\n",
       "        vertical-align: top;\n",
       "    }\n",
       "</style>\n",
       "<table border=\"1\" class=\"dataframe\">\n",
       "  <thead>\n",
       "    <tr style=\"text-align: right;\">\n",
       "      <th></th>\n",
       "      <th>likelihood</th>\n",
       "      <th>posterior</th>\n",
       "      <th>prior</th>\n",
       "      <th>theta</th>\n",
       "    </tr>\n",
       "  </thead>\n",
       "  <tbody>\n",
       "    <tr>\n",
       "      <th>0</th>\n",
       "      <td>0.00</td>\n",
       "      <td>0.00</td>\n",
       "      <td>0.12</td>\n",
       "      <td>0.09</td>\n",
       "    </tr>\n",
       "    <tr>\n",
       "      <th>1</th>\n",
       "      <td>0.00</td>\n",
       "      <td>0.00</td>\n",
       "      <td>0.11</td>\n",
       "      <td>0.18</td>\n",
       "    </tr>\n",
       "    <tr>\n",
       "      <th>2</th>\n",
       "      <td>0.02</td>\n",
       "      <td>0.03</td>\n",
       "      <td>0.10</td>\n",
       "      <td>0.27</td>\n",
       "    </tr>\n",
       "    <tr>\n",
       "      <th>3</th>\n",
       "      <td>0.08</td>\n",
       "      <td>0.08</td>\n",
       "      <td>0.09</td>\n",
       "      <td>0.36</td>\n",
       "    </tr>\n",
       "    <tr>\n",
       "      <th>4</th>\n",
       "      <td>0.16</td>\n",
       "      <td>0.14</td>\n",
       "      <td>0.08</td>\n",
       "      <td>0.45</td>\n",
       "    </tr>\n",
       "    <tr>\n",
       "      <th>5</th>\n",
       "      <td>0.24</td>\n",
       "      <td>0.20</td>\n",
       "      <td>0.07</td>\n",
       "      <td>0.55</td>\n",
       "    </tr>\n",
       "    <tr>\n",
       "      <th>6</th>\n",
       "      <td>0.24</td>\n",
       "      <td>0.25</td>\n",
       "      <td>0.09</td>\n",
       "      <td>0.64</td>\n",
       "    </tr>\n",
       "    <tr>\n",
       "      <th>7</th>\n",
       "      <td>0.17</td>\n",
       "      <td>0.20</td>\n",
       "      <td>0.10</td>\n",
       "      <td>0.73</td>\n",
       "    </tr>\n",
       "    <tr>\n",
       "      <th>8</th>\n",
       "      <td>0.07</td>\n",
       "      <td>0.09</td>\n",
       "      <td>0.11</td>\n",
       "      <td>0.82</td>\n",
       "    </tr>\n",
       "    <tr>\n",
       "      <th>9</th>\n",
       "      <td>0.01</td>\n",
       "      <td>0.01</td>\n",
       "      <td>0.12</td>\n",
       "      <td>0.91</td>\n",
       "    </tr>\n",
       "  </tbody>\n",
       "</table>\n",
       "</div>"
      ],
      "text/plain": [
       "   likelihood  posterior  prior  theta\n",
       "0        0.00       0.00   0.12   0.09\n",
       "1        0.00       0.00   0.11   0.18\n",
       "2        0.02       0.03   0.10   0.27\n",
       "3        0.08       0.08   0.09   0.36\n",
       "4        0.16       0.14   0.08   0.45\n",
       "5        0.24       0.20   0.07   0.55\n",
       "6        0.24       0.25   0.09   0.64\n",
       "7        0.17       0.20   0.10   0.73\n",
       "8        0.07       0.09   0.11   0.82\n",
       "9        0.01       0.01   0.12   0.91"
      ]
     },
     "execution_count": 76,
     "metadata": {},
     "output_type": "execute_result"
    }
   ],
   "source": [
    "d = {'theta' : theta1,'prior': pTheta1, 'likelihood': pDataGivenTheta1, 'posterior' : pThetaGivenData1}\n",
    "pd.DataFrame(data=d)"
   ]
  },
  {
   "cell_type": "markdown",
   "metadata": {},
   "source": [
    "## Conclusion"
   ]
  },
  {
   "cell_type": "markdown",
   "metadata": {},
   "source": [
    "Using a uniform prior and the data provided, the model concluded that there is a 60% chance of someone texting while driving."
   ]
  },
  {
   "cell_type": "code",
   "execution_count": 77,
   "metadata": {},
   "outputs": [
    {
     "data": {
      "text/plain": [
       "0.5988"
      ]
     },
     "execution_count": 77,
     "metadata": {},
     "output_type": "execute_result"
    }
   ],
   "source": [
    "posteriorMean = sum(pThetaGivenData*theta)\n",
    "posteriorMean"
   ]
  },
  {
   "cell_type": "code",
   "execution_count": 80,
   "metadata": {},
   "outputs": [
    {
     "data": {
      "image/png": "[encoded data removed]",
      "text/plain": [
       "<Figure size 432x288 with 1 Axes>"
      ]
     },
     "metadata": {},
     "output_type": "display_data"
    }
   ],
   "source": [
    "plt.plot(theta, pThetaGivenData)\n",
    "plt.show()"
   ]
  },
  {
   "cell_type": "code",
   "execution_count": null,
   "metadata": {
    "collapsed": true
   },
   "outputs": [],
   "source": []
  }
 ],
 "metadata": {
  "kernelspec": {
   "display_name": "Python 3",
   "language": "python",
   "name": "python3"
  },
  "language_info": {
   "codemirror_mode": {
    "name": "ipython",
    "version": 3
   },
   "file_extension": ".py",
   "mimetype": "text/x-python",
   "name": "python",
   "nbconvert_exporter": "python",
   "pygments_lexer": "ipython3",
   "version": "3.6.2"
  }
 },
 "nbformat": 4,
 "nbformat_minor": 2
}
