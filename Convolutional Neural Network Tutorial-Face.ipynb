{
 "cells": [
  {
   "cell_type": "markdown",
   "metadata": {},
   "source": [
    "## The Code\n",
    "First, we'll want to import the keras modules we'll be using for our neural network and the numpy and matplotlib modules that we'll be using for displaying our test images."
   ]
  },
  {
   "cell_type": "code",
   "execution_count": 1,
   "metadata": {},
   "outputs": [
    {
     "name": "stderr",
     "output_type": "stream",
     "text": [
      "Using TensorFlow backend.\n",
      "/Library/Frameworks/Python.framework/Versions/3.6/lib/python3.6/importlib/_bootstrap.py:205: RuntimeWarning: compiletime version 3.5 of module 'tensorflow.python.framework.fast_tensor_util' does not match runtime version 3.6\n",
      "  return f(*args, **kwds)\n"
     ]
    }
   ],
   "source": [
    "from keras.models import Sequential\n",
    "from keras.layers import Conv2D\n",
    "import numpy\n",
    "from matplotlib.pyplot import imshow\n",
    "# tell matplotlib to display images within this notebook\n",
    "%matplotlib inline"
   ]
  },
  {
   "cell_type": "code",
   "execution_count": 2,
   "metadata": {
    "collapsed": true
   },
   "outputs": [],
   "source": [
    "def predict_images(images):\n",
    "    resized_images = []\n",
    "    for image in images:\n",
    "        resized_images.append(numpy.resize(image, (image_size, image_size, 1)))\n",
    "    return model2.predict(numpy.array(resized_images))"
   ]
  },
  {
   "cell_type": "code",
   "execution_count": 3,
   "metadata": {
    "collapsed": true
   },
   "outputs": [],
   "source": [
    "kernel_size = 2\n",
    "image_size = 5"
   ]
  },
  {
   "cell_type": "code",
   "execution_count": 4,
   "metadata": {},
   "outputs": [],
   "source": [
    "model2 = Sequential()\n",
    "model2.add(Conv2D(filters=4, kernel_size=kernel_size, input_shape=(image_size, image_size, 1), strides=(2,2)))\n",
    "model2.add(Conv2D(filters=1, kernel_size=kernel_size, input_shape=(image_size, image_size, 1)))"
   ]
  },
  {
   "cell_type": "code",
   "execution_count": 5,
   "metadata": {},
   "outputs": [
    {
     "data": {
      "text/plain": [
       "[array([[[[-0.16962552,  0.35120159, -0.02248031, -0.21407244]],\n",
       " \n",
       "         [[ 0.07590228,  0.29088569, -0.43676418, -0.16725823]]],\n",
       " \n",
       " \n",
       "        [[[ 0.07240826, -0.20866364, -0.48473814, -0.03738844]],\n",
       " \n",
       "         [[ 0.07879138, -0.13062301, -0.22570997,  0.50598717]]]], dtype=float32),\n",
       " array([ 0.,  0.,  0.,  0.], dtype=float32),\n",
       " array([[[[-0.07382998],\n",
       "          [ 0.53754973],\n",
       "          [ 0.00501651],\n",
       "          [ 0.46377456]],\n",
       " \n",
       "         [[ 0.45488238],\n",
       "          [ 0.15881014],\n",
       "          [ 0.05451536],\n",
       "          [ 0.1725415 ]]],\n",
       " \n",
       " \n",
       "        [[[-0.22837907],\n",
       "          [ 0.05216986],\n",
       "          [ 0.36198336],\n",
       "          [-0.1173304 ]],\n",
       " \n",
       "         [[-0.07519332],\n",
       "          [ 0.22392762],\n",
       "          [ 0.03458422],\n",
       "          [-0.54324424]]]], dtype=float32),\n",
       " array([ 0.], dtype=float32)]"
      ]
     },
     "execution_count": 5,
     "metadata": {},
     "output_type": "execute_result"
    }
   ],
   "source": [
    "weights = model2.get_weights()\n",
    "weights"
   ]
  },
  {
   "cell_type": "code",
   "execution_count": 6,
   "metadata": {
    "scrolled": true
   },
   "outputs": [
    {
     "data": {
      "text/plain": [
       "[array([[[[ 1.,  0.,  0.,  0.]],\n",
       " \n",
       "         [[ 0.,  1.,  0.,  0.]]],\n",
       " \n",
       " \n",
       "        [[[ 0.,  0.,  1.,  0.]],\n",
       " \n",
       "         [[ 0.,  0.,  0.,  1.]]]], dtype=float32),\n",
       " array([ 0.,  0.,  0.,  0.], dtype=float32),\n",
       " array([[[[-0.07382998],\n",
       "          [ 0.53754973],\n",
       "          [ 0.00501651],\n",
       "          [ 0.46377456]],\n",
       " \n",
       "         [[ 0.45488238],\n",
       "          [ 0.15881014],\n",
       "          [ 0.05451536],\n",
       "          [ 0.1725415 ]]],\n",
       " \n",
       " \n",
       "        [[[-0.22837907],\n",
       "          [ 0.05216986],\n",
       "          [ 0.36198336],\n",
       "          [-0.1173304 ]],\n",
       " \n",
       "         [[-0.07519332],\n",
       "          [ 0.22392762],\n",
       "          [ 0.03458422],\n",
       "          [-0.54324424]]]], dtype=float32),\n",
       " array([ 0.], dtype=float32)]"
      ]
     },
     "execution_count": 6,
     "metadata": {},
     "output_type": "execute_result"
    }
   ],
   "source": [
    "layer_num = 0\n",
    "filter_num = 0\n",
    "\n",
    "weights[layer_num][0][0][0][filter_num] = 1\n",
    "weights[layer_num][0][1][0][filter_num] = 0\n",
    "weights[layer_num][1][0][0][filter_num] = 0\n",
    "weights[layer_num][1][1][0][filter_num] = 0\n",
    "\n",
    "filter_num = 1\n",
    "\n",
    "weights[layer_num][0][0][0][filter_num] = 0\n",
    "weights[layer_num][0][1][0][filter_num] = 1\n",
    "weights[layer_num][1][0][0][filter_num] = 0\n",
    "weights[layer_num][1][1][0][filter_num] = 0\n",
    "\n",
    "filter_num = 2\n",
    "\n",
    "weights[layer_num][0][0][0][filter_num] = 0\n",
    "weights[layer_num][0][1][0][filter_num] = 0\n",
    "weights[layer_num][1][0][0][filter_num] = 1\n",
    "weights[layer_num][1][1][0][filter_num] = 0\n",
    "\n",
    "filter_num = 3\n",
    "\n",
    "weights[layer_num][0][0][0][filter_num] = 0\n",
    "weights[layer_num][0][1][0][filter_num] = 0\n",
    "weights[layer_num][1][0][0][filter_num] = 0\n",
    "weights[layer_num][1][1][0][filter_num] = 1\n",
    "\n",
    "weights"
   ]
  },
  {
   "cell_type": "code",
   "execution_count": 7,
   "metadata": {},
   "outputs": [],
   "source": [
    "layer_num = 2\n",
    "filter_num = 0\n",
    "\n",
    "weights[layer_num][0][0][0][filter_num] = 1\n",
    "weights[layer_num][0][1][0][filter_num] = 1\n",
    "weights[layer_num][1][0][0][filter_num] = -0.25\n",
    "weights[layer_num][1][1][0][filter_num] = -0.25\n",
    "\n",
    "weights[layer_num][0][0][1][filter_num] = 1\n",
    "weights[layer_num][0][1][1][filter_num] = 1\n",
    "weights[layer_num][1][0][1][filter_num] = -0.25\n",
    "weights[layer_num][1][1][1][filter_num] = -0.25\n",
    "\n",
    "weights[layer_num][0][0][2][filter_num] = -0.25\n",
    "weights[layer_num][0][1][2][filter_num] = -0.25\n",
    "weights[layer_num][1][0][2][filter_num] = 1\n",
    "weights[layer_num][1][1][2][filter_num] = 1\n",
    "\n",
    "weights[layer_num][0][0][3][filter_num] = -0.25\n",
    "weights[layer_num][0][1][3][filter_num] = -0.25\n",
    "weights[layer_num][1][0][3][filter_num] = 1\n",
    "weights[layer_num][1][1][3][filter_num] = 1\n",
    "\n",
    "weights  \n",
    "model2.set_weights(weights)"
   ]
  },
  {
   "cell_type": "code",
   "execution_count": 8,
   "metadata": {},
   "outputs": [
    {
     "data": {
      "text/plain": [
       "<matplotlib.image.AxesImage at 0x113f5f5f8>"
      ]
     },
     "execution_count": 8,
     "metadata": {},
     "output_type": "execute_result"
    },
    {
     "data": {
      "image/png": "[encoded data removed]",
      "text/plain": [
       "<matplotlib.figure.Figure at 0x101865780>"
      ]
     },
     "metadata": {},
     "output_type": "display_data"
    }
   ],
   "source": [
    "image_1 = numpy.array([\n",
    "    [0, 0, 0, 0, 0],\n",
    "    [0, 255, 0, 255, 0],\n",
    "    [0, 0, 0, 0, 0],\n",
    "    [0, 255, 255, 255, 0],\n",
    "    [0, 0, 0, 0, 0],\n",
    "\n",
    "], dtype=numpy.uint8)\n",
    "imshow(image_1, cmap='gray', vmin=0, vmax=255)"
   ]
  },
  {
   "cell_type": "code",
   "execution_count": 9,
   "metadata": {},
   "outputs": [
    {
     "data": {
      "text/plain": [
       "array([[[[ 637.5]]]], dtype=float32)"
      ]
     },
     "execution_count": 9,
     "metadata": {},
     "output_type": "execute_result"
    }
   ],
   "source": [
    "predict_images([image_1])"
   ]
  },
  {
   "cell_type": "code",
   "execution_count": null,
   "metadata": {
    "collapsed": true
   },
   "outputs": [],
   "source": []
  },
  {
   "cell_type": "code",
   "execution_count": null,
   "metadata": {
    "collapsed": true
   },
   "outputs": [],
   "source": []
  }
 ],
 "metadata": {
  "kernelspec": {
   "display_name": "Python 3",
   "language": "python",
   "name": "python3"
  },
  "language_info": {
   "codemirror_mode": {
    "name": "ipython",
    "version": 3
   },
   "file_extension": ".py",
   "mimetype": "text/x-python",
   "name": "python",
   "nbconvert_exporter": "python",
   "pygments_lexer": "ipython3",
   "version": "3.6.2"
  }
 },
 "nbformat": 4,
 "nbformat_minor": 2
}
